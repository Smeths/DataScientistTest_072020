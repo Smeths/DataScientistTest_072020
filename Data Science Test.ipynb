{
 "cells": [
  {
   "cell_type": "markdown",
   "metadata": {},
   "source": [
    "# Data Scientist Test\n",
    "\n",
    "This study involves analysing a dataset relating to mortality and building a machine learning algorithm to predict mortality. The dataset includes the following features:\n",
    "\n",
    "  - ID - a unique row ID.\n",
    "  - Organisation - The organisation the patient was seen at.\n",
    "  - Age - The patient’s age.\n",
    "  - LOS - The patent’s length-of-stay in hospital, in whole days.\n",
    "  - Death - A flag indicating whether the patient died, coded: 0 =\n",
    "    survived, 1 = died.\n",
    "  - Category - The risk category the patient falls into.\n",
    "  \n",
    "The study is broken down into the following sections\n",
    "\n",
    "- Data Check and Clean\n",
    "- Exploratory Analysis\n",
    "- Model Selection, Implementation and Interpretation\n",
    "- Model Testing"
   ]
  },
  {
   "cell_type": "markdown",
   "metadata": {},
   "source": [
    "# Data Check and Clean\n",
    "\n",
    "In this section I will load the data into a pandas data frame check for missing values; check the data types in the model; perform data cleaning tasks and look at some preliminary statistics.\n",
    "\n",
    "### Loading Data"
   ]
  },
  {
   "cell_type": "code",
   "execution_count": 2,
   "metadata": {},
   "outputs": [
    {
     "data": {
      "text/html": [
       "<div>\n",
       "<style scoped>\n",
       "    .dataframe tbody tr th:only-of-type {\n",
       "        vertical-align: middle;\n",
       "    }\n",
       "\n",
       "    .dataframe tbody tr th {\n",
       "        vertical-align: top;\n",
       "    }\n",
       "\n",
       "    .dataframe thead th {\n",
       "        text-align: right;\n",
       "    }\n",
       "</style>\n",
       "<table border=\"1\" class=\"dataframe\">\n",
       "  <thead>\n",
       "    <tr style=\"text-align: right;\">\n",
       "      <th></th>\n",
       "      <th>ID</th>\n",
       "      <th>Organisation</th>\n",
       "      <th>Age</th>\n",
       "      <th>LOS</th>\n",
       "      <th>Death</th>\n",
       "      <th>Category</th>\n",
       "    </tr>\n",
       "  </thead>\n",
       "  <tbody>\n",
       "    <tr>\n",
       "      <th>0</th>\n",
       "      <td>1</td>\n",
       "      <td>Trust1</td>\n",
       "      <td>55</td>\n",
       "      <td>2</td>\n",
       "      <td>0</td>\n",
       "      <td>Low</td>\n",
       "    </tr>\n",
       "    <tr>\n",
       "      <th>1</th>\n",
       "      <td>2</td>\n",
       "      <td>Trust2</td>\n",
       "      <td>27</td>\n",
       "      <td>1</td>\n",
       "      <td>0</td>\n",
       "      <td>Low</td>\n",
       "    </tr>\n",
       "    <tr>\n",
       "      <th>2</th>\n",
       "      <td>3</td>\n",
       "      <td>Trust3</td>\n",
       "      <td>93</td>\n",
       "      <td>12</td>\n",
       "      <td>0</td>\n",
       "      <td>High</td>\n",
       "    </tr>\n",
       "    <tr>\n",
       "      <th>3</th>\n",
       "      <td>4</td>\n",
       "      <td>Trust4</td>\n",
       "      <td>45</td>\n",
       "      <td>3</td>\n",
       "      <td>1</td>\n",
       "      <td>Low</td>\n",
       "    </tr>\n",
       "    <tr>\n",
       "      <th>4</th>\n",
       "      <td>5</td>\n",
       "      <td>Trust5</td>\n",
       "      <td>70</td>\n",
       "      <td>11</td>\n",
       "      <td>0</td>\n",
       "      <td>High</td>\n",
       "    </tr>\n",
       "  </tbody>\n",
       "</table>\n",
       "</div>"
      ],
      "text/plain": [
       "   ID Organisation  Age  LOS  Death Category\n",
       "0   1       Trust1   55    2      0      Low\n",
       "1   2       Trust2   27    1      0      Low\n",
       "2   3       Trust3   93   12      0     High\n",
       "3   4       Trust4   45    3      1      Low\n",
       "4   5       Trust5   70   11      0     High"
      ]
     },
     "execution_count": 2,
     "metadata": {},
     "output_type": "execute_result"
    }
   ],
   "source": [
    "import pandas as pd\n",
    "df = pd.read_csv(\"simulated_data.csv\")\n",
    "df.head()"
   ]
  },
  {
   "cell_type": "markdown",
   "metadata": {},
   "source": [
    "### Checking for Missing Values and Data Types"
   ]
  },
  {
   "cell_type": "code",
   "execution_count": 3,
   "metadata": {},
   "outputs": [
    {
     "data": {
      "text/plain": [
       "ID              0\n",
       "Organisation    0\n",
       "Age             0\n",
       "LOS             0\n",
       "Death           0\n",
       "Category        0\n",
       "dtype: int64"
      ]
     },
     "execution_count": 3,
     "metadata": {},
     "output_type": "execute_result"
    }
   ],
   "source": [
    "df.isna().sum()"
   ]
  },
  {
   "cell_type": "code",
   "execution_count": 4,
   "metadata": {},
   "outputs": [
    {
     "data": {
      "text/plain": [
       "ID               int64\n",
       "Organisation    object\n",
       "Age              int64\n",
       "LOS              int64\n",
       "Death            int64\n",
       "Category        object\n",
       "dtype: object"
      ]
     },
     "execution_count": 4,
     "metadata": {},
     "output_type": "execute_result"
    }
   ],
   "source": [
    "df.dtypes"
   ]
  },
  {
   "cell_type": "markdown",
   "metadata": {},
   "source": [
    "### Preliminary Statistics\n",
    "\n",
    "Size of dataset"
   ]
  },
  {
   "cell_type": "code",
   "execution_count": 5,
   "metadata": {},
   "outputs": [
    {
     "data": {
      "text/plain": [
       "(300, 6)"
      ]
     },
     "execution_count": 5,
     "metadata": {},
     "output_type": "execute_result"
    }
   ],
   "source": [
    "df.shape"
   ]
  },
  {
   "cell_type": "markdown",
   "metadata": {},
   "source": [
    "Some preliminary statistics "
   ]
  },
  {
   "cell_type": "code",
   "execution_count": 6,
   "metadata": {},
   "outputs": [
    {
     "data": {
      "text/html": [
       "<div>\n",
       "<style scoped>\n",
       "    .dataframe tbody tr th:only-of-type {\n",
       "        vertical-align: middle;\n",
       "    }\n",
       "\n",
       "    .dataframe tbody tr th {\n",
       "        vertical-align: top;\n",
       "    }\n",
       "\n",
       "    .dataframe thead th {\n",
       "        text-align: right;\n",
       "    }\n",
       "</style>\n",
       "<table border=\"1\" class=\"dataframe\">\n",
       "  <thead>\n",
       "    <tr style=\"text-align: right;\">\n",
       "      <th></th>\n",
       "      <th>ID</th>\n",
       "      <th>Organisation</th>\n",
       "      <th>Age</th>\n",
       "      <th>LOS</th>\n",
       "      <th>Death</th>\n",
       "      <th>Category</th>\n",
       "    </tr>\n",
       "  </thead>\n",
       "  <tbody>\n",
       "    <tr>\n",
       "      <th>count</th>\n",
       "      <td>300.000000</td>\n",
       "      <td>300</td>\n",
       "      <td>300.000000</td>\n",
       "      <td>300.000000</td>\n",
       "      <td>300.000000</td>\n",
       "      <td>300</td>\n",
       "    </tr>\n",
       "    <tr>\n",
       "      <th>unique</th>\n",
       "      <td>NaN</td>\n",
       "      <td>10</td>\n",
       "      <td>NaN</td>\n",
       "      <td>NaN</td>\n",
       "      <td>NaN</td>\n",
       "      <td>3</td>\n",
       "    </tr>\n",
       "    <tr>\n",
       "      <th>top</th>\n",
       "      <td>NaN</td>\n",
       "      <td>Trust3</td>\n",
       "      <td>NaN</td>\n",
       "      <td>NaN</td>\n",
       "      <td>NaN</td>\n",
       "      <td>Low</td>\n",
       "    </tr>\n",
       "    <tr>\n",
       "      <th>freq</th>\n",
       "      <td>NaN</td>\n",
       "      <td>30</td>\n",
       "      <td>NaN</td>\n",
       "      <td>NaN</td>\n",
       "      <td>NaN</td>\n",
       "      <td>160</td>\n",
       "    </tr>\n",
       "    <tr>\n",
       "      <th>mean</th>\n",
       "      <td>150.500000</td>\n",
       "      <td>NaN</td>\n",
       "      <td>50.656667</td>\n",
       "      <td>4.936667</td>\n",
       "      <td>0.176667</td>\n",
       "      <td>NaN</td>\n",
       "    </tr>\n",
       "    <tr>\n",
       "      <th>std</th>\n",
       "      <td>86.746758</td>\n",
       "      <td>NaN</td>\n",
       "      <td>27.876798</td>\n",
       "      <td>3.617958</td>\n",
       "      <td>0.382024</td>\n",
       "      <td>NaN</td>\n",
       "    </tr>\n",
       "    <tr>\n",
       "      <th>min</th>\n",
       "      <td>1.000000</td>\n",
       "      <td>NaN</td>\n",
       "      <td>5.000000</td>\n",
       "      <td>1.000000</td>\n",
       "      <td>0.000000</td>\n",
       "      <td>NaN</td>\n",
       "    </tr>\n",
       "    <tr>\n",
       "      <th>25%</th>\n",
       "      <td>75.750000</td>\n",
       "      <td>NaN</td>\n",
       "      <td>24.000000</td>\n",
       "      <td>2.000000</td>\n",
       "      <td>0.000000</td>\n",
       "      <td>NaN</td>\n",
       "    </tr>\n",
       "    <tr>\n",
       "      <th>50%</th>\n",
       "      <td>150.500000</td>\n",
       "      <td>NaN</td>\n",
       "      <td>54.000000</td>\n",
       "      <td>4.000000</td>\n",
       "      <td>0.000000</td>\n",
       "      <td>NaN</td>\n",
       "    </tr>\n",
       "    <tr>\n",
       "      <th>75%</th>\n",
       "      <td>225.250000</td>\n",
       "      <td>NaN</td>\n",
       "      <td>75.250000</td>\n",
       "      <td>7.000000</td>\n",
       "      <td>0.000000</td>\n",
       "      <td>NaN</td>\n",
       "    </tr>\n",
       "    <tr>\n",
       "      <th>max</th>\n",
       "      <td>300.000000</td>\n",
       "      <td>NaN</td>\n",
       "      <td>95.000000</td>\n",
       "      <td>18.000000</td>\n",
       "      <td>1.000000</td>\n",
       "      <td>NaN</td>\n",
       "    </tr>\n",
       "  </tbody>\n",
       "</table>\n",
       "</div>"
      ],
      "text/plain": [
       "                ID Organisation         Age         LOS       Death Category\n",
       "count   300.000000          300  300.000000  300.000000  300.000000      300\n",
       "unique         NaN           10         NaN         NaN         NaN        3\n",
       "top            NaN       Trust3         NaN         NaN         NaN      Low\n",
       "freq           NaN           30         NaN         NaN         NaN      160\n",
       "mean    150.500000          NaN   50.656667    4.936667    0.176667      NaN\n",
       "std      86.746758          NaN   27.876798    3.617958    0.382024      NaN\n",
       "min       1.000000          NaN    5.000000    1.000000    0.000000      NaN\n",
       "25%      75.750000          NaN   24.000000    2.000000    0.000000      NaN\n",
       "50%     150.500000          NaN   54.000000    4.000000    0.000000      NaN\n",
       "75%     225.250000          NaN   75.250000    7.000000    0.000000      NaN\n",
       "max     300.000000          NaN   95.000000   18.000000    1.000000      NaN"
      ]
     },
     "execution_count": 6,
     "metadata": {},
     "output_type": "execute_result"
    }
   ],
   "source": [
    "df.describe(include='all') "
   ]
  },
  {
   "cell_type": "markdown",
   "metadata": {},
   "source": [
    "As the aim is to predict mortality, it would be useful to know the mortality from the outset."
   ]
  },
  {
   "cell_type": "code",
   "execution_count": 7,
   "metadata": {},
   "outputs": [
    {
     "data": {
      "text/plain": [
       "53"
      ]
     },
     "execution_count": 7,
     "metadata": {},
     "output_type": "execute_result"
    }
   ],
   "source": [
    "df[\"Death\"].sum()"
   ]
  },
  {
   "cell_type": "markdown",
   "metadata": {},
   "source": [
    "Out of 300 patients 53 die in hospital"
   ]
  },
  {
   "cell_type": "markdown",
   "metadata": {},
   "source": [
    "# Exploratory Analysis\n",
    "\n",
    "In this section I will analyse each feature individually and how it relates to examine how each features relates to mortality.\n",
    "\n",
    "### Organisation\n",
    "\n",
    "The organisation involved have the following frequency distribution"
   ]
  },
  {
   "cell_type": "code",
   "execution_count": 8,
   "metadata": {},
   "outputs": [
    {
     "data": {
      "text/plain": [
       "Trust3     30\n",
       "Trust6     30\n",
       "Trust10    30\n",
       "Trust5     30\n",
       "Trust2     30\n",
       "Trust7     30\n",
       "Trust9     30\n",
       "Trust4     30\n",
       "Trust1     30\n",
       "Trust8     30\n",
       "Name: Organisation, dtype: int64"
      ]
     },
     "execution_count": 8,
     "metadata": {},
     "output_type": "execute_result"
    }
   ],
   "source": [
    "df[\"Organisation\"].value_counts()"
   ]
  },
  {
   "cell_type": "markdown",
   "metadata": {},
   "source": [
    "There are an equal number of each trust within the Organisation feature. To see how the Trust relates to mortality."
   ]
  },
  {
   "cell_type": "code",
   "execution_count": 9,
   "metadata": {},
   "outputs": [
    {
     "data": {
      "text/html": [
       "<div>\n",
       "<style scoped>\n",
       "    .dataframe tbody tr th:only-of-type {\n",
       "        vertical-align: middle;\n",
       "    }\n",
       "\n",
       "    .dataframe tbody tr th {\n",
       "        vertical-align: top;\n",
       "    }\n",
       "\n",
       "    .dataframe thead th {\n",
       "        text-align: right;\n",
       "    }\n",
       "</style>\n",
       "<table border=\"1\" class=\"dataframe\">\n",
       "  <thead>\n",
       "    <tr style=\"text-align: right;\">\n",
       "      <th>Death</th>\n",
       "      <th>0</th>\n",
       "      <th>1</th>\n",
       "      <th>All</th>\n",
       "    </tr>\n",
       "    <tr>\n",
       "      <th>Organisation</th>\n",
       "      <th></th>\n",
       "      <th></th>\n",
       "      <th></th>\n",
       "    </tr>\n",
       "  </thead>\n",
       "  <tbody>\n",
       "    <tr>\n",
       "      <th>Trust1</th>\n",
       "      <td>23</td>\n",
       "      <td>7</td>\n",
       "      <td>30</td>\n",
       "    </tr>\n",
       "    <tr>\n",
       "      <th>Trust10</th>\n",
       "      <td>26</td>\n",
       "      <td>4</td>\n",
       "      <td>30</td>\n",
       "    </tr>\n",
       "    <tr>\n",
       "      <th>Trust2</th>\n",
       "      <td>25</td>\n",
       "      <td>5</td>\n",
       "      <td>30</td>\n",
       "    </tr>\n",
       "    <tr>\n",
       "      <th>Trust3</th>\n",
       "      <td>24</td>\n",
       "      <td>6</td>\n",
       "      <td>30</td>\n",
       "    </tr>\n",
       "    <tr>\n",
       "      <th>Trust4</th>\n",
       "      <td>26</td>\n",
       "      <td>4</td>\n",
       "      <td>30</td>\n",
       "    </tr>\n",
       "    <tr>\n",
       "      <th>Trust5</th>\n",
       "      <td>23</td>\n",
       "      <td>7</td>\n",
       "      <td>30</td>\n",
       "    </tr>\n",
       "    <tr>\n",
       "      <th>Trust6</th>\n",
       "      <td>26</td>\n",
       "      <td>4</td>\n",
       "      <td>30</td>\n",
       "    </tr>\n",
       "    <tr>\n",
       "      <th>Trust7</th>\n",
       "      <td>22</td>\n",
       "      <td>8</td>\n",
       "      <td>30</td>\n",
       "    </tr>\n",
       "    <tr>\n",
       "      <th>Trust8</th>\n",
       "      <td>25</td>\n",
       "      <td>5</td>\n",
       "      <td>30</td>\n",
       "    </tr>\n",
       "    <tr>\n",
       "      <th>Trust9</th>\n",
       "      <td>27</td>\n",
       "      <td>3</td>\n",
       "      <td>30</td>\n",
       "    </tr>\n",
       "    <tr>\n",
       "      <th>All</th>\n",
       "      <td>247</td>\n",
       "      <td>53</td>\n",
       "      <td>300</td>\n",
       "    </tr>\n",
       "  </tbody>\n",
       "</table>\n",
       "</div>"
      ],
      "text/plain": [
       "Death           0   1  All\n",
       "Organisation              \n",
       "Trust1         23   7   30\n",
       "Trust10        26   4   30\n",
       "Trust2         25   5   30\n",
       "Trust3         24   6   30\n",
       "Trust4         26   4   30\n",
       "Trust5         23   7   30\n",
       "Trust6         26   4   30\n",
       "Trust7         22   8   30\n",
       "Trust8         25   5   30\n",
       "Trust9         27   3   30\n",
       "All           247  53  300"
      ]
     },
     "execution_count": 9,
     "metadata": {},
     "output_type": "execute_result"
    }
   ],
   "source": [
    "pd.crosstab(df['Organisation'], df['Death'],margins=True)"
   ]
  },
  {
   "cell_type": "markdown",
   "metadata": {},
   "source": [
    "So trust 7 has the most deaths and trust 9 the least.\n",
    "\n",
    "### Age\n",
    "\n",
    "A histogram should give an idea as to the distribution age follows"
   ]
  },
  {
   "cell_type": "code",
   "execution_count": 10,
   "metadata": {},
   "outputs": [
    {
     "data": {
      "text/plain": [
       "(array([17., 18., 23., 15., 16.,  9., 11.,  9., 12., 10., 12., 14., 16.,\n",
       "        12., 19., 16., 22., 14., 13., 22.]),\n",
       " array([ 5. ,  9.5, 14. , 18.5, 23. , 27.5, 32. , 36.5, 41. , 45.5, 50. ,\n",
       "        54.5, 59. , 63.5, 68. , 72.5, 77. , 81.5, 86. , 90.5, 95. ]),\n",
       " <a list of 20 Patch objects>)"
      ]
     },
     "execution_count": 10,
     "metadata": {},
     "output_type": "execute_result"
    },
    {
     "data": {
      "image/png": "[encoded data removed]",
      "text/plain": [
       "<Figure size 432x288 with 1 Axes>"
      ]
     },
     "metadata": {
      "needs_background": "light"
     },
     "output_type": "display_data"
    }
   ],
   "source": [
    "import matplotlib\n",
    "import matplotlib.pyplot as plt\n",
    "fig, axs = plt.subplots(1, 1)\n",
    "\n",
    "# We can set the number of bins with the `bins` kwarg\n",
    "axs.hist(df[\"Age\"], bins=20)"
   ]
  },
  {
   "cell_type": "markdown",
   "metadata": {},
   "source": [
    "The distribution of age appears to be approximately uniform. The preceeding box plot show how age relates to mortality"
   ]
  },
  {
   "cell_type": "code",
   "execution_count": 11,
   "metadata": {},
   "outputs": [
    {
     "data": {
      "text/plain": [
       "Text(0.5, 1.0, 'Age')"
      ]
     },
     "execution_count": 11,
     "metadata": {},
     "output_type": "execute_result"
    },
    {
     "data": {
      "image/png": "[encoded data removed]",
      "text/plain": [
       "<Figure size 432x288 with 1 Axes>"
      ]
     },
     "metadata": {
      "needs_background": "light"
     },
     "output_type": "display_data"
    }
   ],
   "source": [
    "fig, axs = plt.subplots(1, 1)\n",
    "\n",
    "axs.boxplot([df['Age'][df.Death == 1],df['Age'][df.Death == 0]])\n",
    "axs.set_xticklabels(['Died','Survived'])\n",
    "axs.set_title(\"Age\")"
   ]
  },
  {
   "cell_type": "markdown",
   "metadata": {},
   "source": [
    "The median age of those who died is in fact lower than the median age of those who died, which seems intuitive. The mean age for those who survived and those who died is given below:"
   ]
  },
  {
   "cell_type": "code",
   "execution_count": 12,
   "metadata": {},
   "outputs": [
    {
     "name": "stdout",
     "output_type": "stream",
     "text": [
      "49.064777327935225\n"
     ]
    }
   ],
   "source": [
    "print(df['Age'][df.Death == 0].mean())"
   ]
  },
  {
   "cell_type": "code",
   "execution_count": 13,
   "metadata": {},
   "outputs": [
    {
     "name": "stdout",
     "output_type": "stream",
     "text": [
      "58.075471698113205\n"
     ]
    }
   ],
   "source": [
    "print(df['Age'][df.Death == 1].mean())"
   ]
  },
  {
   "cell_type": "markdown",
   "metadata": {},
   "source": [
    "### Length of Stay\n",
    "\n",
    "A histogram should give an idea as to the distribution LOS follows"
   ]
  },
  {
   "cell_type": "code",
   "execution_count": 14,
   "metadata": {},
   "outputs": [
    {
     "data": {
      "text/plain": [
       "(array([49., 48., 42., 29., 26., 18.,  0., 18., 14., 13., 15., 12.,  7.,\n",
       "         0.,  2.,  2.,  3.,  0.,  0.,  2.]),\n",
       " array([ 1.  ,  1.85,  2.7 ,  3.55,  4.4 ,  5.25,  6.1 ,  6.95,  7.8 ,\n",
       "         8.65,  9.5 , 10.35, 11.2 , 12.05, 12.9 , 13.75, 14.6 , 15.45,\n",
       "        16.3 , 17.15, 18.  ]),\n",
       " <a list of 20 Patch objects>)"
      ]
     },
     "execution_count": 14,
     "metadata": {},
     "output_type": "execute_result"
    },
    {
     "data": {
      "image/png": "[encoded data removed]",
      "text/plain": [
       "<Figure size 432x288 with 1 Axes>"
      ]
     },
     "metadata": {
      "needs_background": "light"
     },
     "output_type": "display_data"
    }
   ],
   "source": [
    "fig, axs = plt.subplots(1, 1)\n",
    "\n",
    "# We can set the number of bins with the `bins` kwarg\n",
    "axs.hist(df[\"LOS\"], bins=20)"
   ]
  },
  {
   "cell_type": "markdown",
   "metadata": {},
   "source": [
    "The distribution of LOS is quite skewed with most people only staying for a few days and few people staying of more than 10 days. The box plots below show how length of stay relates to mortality"
   ]
  },
  {
   "cell_type": "code",
   "execution_count": 15,
   "metadata": {},
   "outputs": [
    {
     "data": {
      "text/plain": [
       "Text(0.5, 1.0, 'LOS')"
      ]
     },
     "execution_count": 15,
     "metadata": {},
     "output_type": "execute_result"
    },
    {
     "data": {
      "image/png": "[encoded data removed]",
      "text/plain": [
       "<Figure size 432x288 with 1 Axes>"
      ]
     },
     "metadata": {
      "needs_background": "light"
     },
     "output_type": "display_data"
    }
   ],
   "source": [
    "fig, axs = plt.subplots(1, 1)\n",
    "\n",
    "axs.boxplot([df['LOS'][df.Death == 1],df['LOS'][df.Death == 0]])\n",
    "axs.set_xticklabels(['Died','Survived'])\n",
    "axs.set_title(\"LOS\")"
   ]
  },
  {
   "cell_type": "markdown",
   "metadata": {},
   "source": [
    "The length of stay distribution is clearly different for those who survived and those who died. Generally people who survived had a shorter length of stay. The mean for those who survived and those who died is given below."
   ]
  },
  {
   "cell_type": "code",
   "execution_count": 16,
   "metadata": {},
   "outputs": [
    {
     "name": "stdout",
     "output_type": "stream",
     "text": [
      "4.582995951417004\n"
     ]
    }
   ],
   "source": [
    "print(df['LOS'][df.Death == 0].mean())"
   ]
  },
  {
   "cell_type": "code",
   "execution_count": 17,
   "metadata": {},
   "outputs": [
    {
     "name": "stdout",
     "output_type": "stream",
     "text": [
      "6.584905660377358\n"
     ]
    }
   ],
   "source": [
    "print(df['LOS'][df.Death == 1].mean())"
   ]
  },
  {
   "cell_type": "markdown",
   "metadata": {},
   "source": [
    "### Category"
   ]
  },
  {
   "cell_type": "markdown",
   "metadata": {},
   "source": [
    "The frequency distribution of the category features is shown below"
   ]
  },
  {
   "cell_type": "code",
   "execution_count": 18,
   "metadata": {},
   "outputs": [
    {
     "data": {
      "text/plain": [
       "Low         160\n",
       "Moderate     87\n",
       "High         53\n",
       "Name: Category, dtype: int64"
      ]
     },
     "execution_count": 18,
     "metadata": {},
     "output_type": "execute_result"
    }
   ],
   "source": [
    "df[\"Category\"].value_counts()"
   ]
  },
  {
   "cell_type": "markdown",
   "metadata": {},
   "source": [
    "So most patients are in the LOW category. The following table shows how \"Category\" relates to \"Death\"."
   ]
  },
  {
   "cell_type": "code",
   "execution_count": 19,
   "metadata": {},
   "outputs": [
    {
     "data": {
      "text/html": [
       "<div>\n",
       "<style scoped>\n",
       "    .dataframe tbody tr th:only-of-type {\n",
       "        vertical-align: middle;\n",
       "    }\n",
       "\n",
       "    .dataframe tbody tr th {\n",
       "        vertical-align: top;\n",
       "    }\n",
       "\n",
       "    .dataframe thead th {\n",
       "        text-align: right;\n",
       "    }\n",
       "</style>\n",
       "<table border=\"1\" class=\"dataframe\">\n",
       "  <thead>\n",
       "    <tr style=\"text-align: right;\">\n",
       "      <th>Death</th>\n",
       "      <th>0</th>\n",
       "      <th>1</th>\n",
       "      <th>All</th>\n",
       "    </tr>\n",
       "    <tr>\n",
       "      <th>Category</th>\n",
       "      <th></th>\n",
       "      <th></th>\n",
       "      <th></th>\n",
       "    </tr>\n",
       "  </thead>\n",
       "  <tbody>\n",
       "    <tr>\n",
       "      <th>High</th>\n",
       "      <td>39</td>\n",
       "      <td>14</td>\n",
       "      <td>53</td>\n",
       "    </tr>\n",
       "    <tr>\n",
       "      <th>Low</th>\n",
       "      <td>146</td>\n",
       "      <td>14</td>\n",
       "      <td>160</td>\n",
       "    </tr>\n",
       "    <tr>\n",
       "      <th>Moderate</th>\n",
       "      <td>62</td>\n",
       "      <td>25</td>\n",
       "      <td>87</td>\n",
       "    </tr>\n",
       "    <tr>\n",
       "      <th>All</th>\n",
       "      <td>247</td>\n",
       "      <td>53</td>\n",
       "      <td>300</td>\n",
       "    </tr>\n",
       "  </tbody>\n",
       "</table>\n",
       "</div>"
      ],
      "text/plain": [
       "Death       0   1  All\n",
       "Category              \n",
       "High       39  14   53\n",
       "Low       146  14  160\n",
       "Moderate   62  25   87\n",
       "All       247  53  300"
      ]
     },
     "execution_count": 19,
     "metadata": {},
     "output_type": "execute_result"
    }
   ],
   "source": [
    "pd.crosstab(df['Category'], df['Death'],margins=True)"
   ]
  },
  {
   "cell_type": "markdown",
   "metadata": {},
   "source": [
    "Strangely, the highest proportion of patients die in the moderate category. 25/87 > 14/53. **If this were real data it would definitely be worth checking this issue.**"
   ]
  },
  {
   "cell_type": "markdown",
   "metadata": {},
   "source": [
    "# Model Selection, Implementation and Interpretation\n",
    "\n",
    "### Model Selection\n",
    "\n",
    "I think Logistic Regression and Decision Trees are possible models for this type of data. Logistic regression can be 0 or 1 predictions and is highly interpretable, decisions trees can also make 0 or 1 predictions and are equally interpretable. Comparing both would be interesting, but given the time constraints I will select decision trees as they are arguably better at handling discrete data and given the exploratory analysis the categorical feature \"category\" is likely to be very important.\n",
    "\n",
    "### Model Implementation\n",
    "\n",
    "First the category data will need converting to numeric data for compatibility with the sci-kit learn decision tree implementation."
   ]
  },
  {
   "cell_type": "code",
   "execution_count": 20,
   "metadata": {},
   "outputs": [
    {
     "data": {
      "text/html": [
       "<div>\n",
       "<style scoped>\n",
       "    .dataframe tbody tr th:only-of-type {\n",
       "        vertical-align: middle;\n",
       "    }\n",
       "\n",
       "    .dataframe tbody tr th {\n",
       "        vertical-align: top;\n",
       "    }\n",
       "\n",
       "    .dataframe thead th {\n",
       "        text-align: right;\n",
       "    }\n",
       "</style>\n",
       "<table border=\"1\" class=\"dataframe\">\n",
       "  <thead>\n",
       "    <tr style=\"text-align: right;\">\n",
       "      <th></th>\n",
       "      <th>ID</th>\n",
       "      <th>Organisation</th>\n",
       "      <th>Age</th>\n",
       "      <th>LOS</th>\n",
       "      <th>Death</th>\n",
       "      <th>Category</th>\n",
       "    </tr>\n",
       "  </thead>\n",
       "  <tbody>\n",
       "    <tr>\n",
       "      <th>0</th>\n",
       "      <td>1</td>\n",
       "      <td>0</td>\n",
       "      <td>55</td>\n",
       "      <td>2</td>\n",
       "      <td>0</td>\n",
       "      <td>1</td>\n",
       "    </tr>\n",
       "    <tr>\n",
       "      <th>1</th>\n",
       "      <td>2</td>\n",
       "      <td>2</td>\n",
       "      <td>27</td>\n",
       "      <td>1</td>\n",
       "      <td>0</td>\n",
       "      <td>1</td>\n",
       "    </tr>\n",
       "    <tr>\n",
       "      <th>2</th>\n",
       "      <td>3</td>\n",
       "      <td>3</td>\n",
       "      <td>93</td>\n",
       "      <td>12</td>\n",
       "      <td>0</td>\n",
       "      <td>0</td>\n",
       "    </tr>\n",
       "    <tr>\n",
       "      <th>3</th>\n",
       "      <td>4</td>\n",
       "      <td>4</td>\n",
       "      <td>45</td>\n",
       "      <td>3</td>\n",
       "      <td>1</td>\n",
       "      <td>1</td>\n",
       "    </tr>\n",
       "    <tr>\n",
       "      <th>4</th>\n",
       "      <td>5</td>\n",
       "      <td>5</td>\n",
       "      <td>70</td>\n",
       "      <td>11</td>\n",
       "      <td>0</td>\n",
       "      <td>0</td>\n",
       "    </tr>\n",
       "  </tbody>\n",
       "</table>\n",
       "</div>"
      ],
      "text/plain": [
       "   ID  Organisation  Age  LOS  Death  Category\n",
       "0   1             0   55    2      0         1\n",
       "1   2             2   27    1      0         1\n",
       "2   3             3   93   12      0         0\n",
       "3   4             4   45    3      1         1\n",
       "4   5             5   70   11      0         0"
      ]
     },
     "execution_count": 20,
     "metadata": {},
     "output_type": "execute_result"
    }
   ],
   "source": [
    "from sklearn import tree, preprocessing\n",
    "# as the decision tree classifier can only handle numeric data, Sex and Embarked will need to be transformed\n",
    "le = preprocessing.LabelEncoder()\n",
    "le.fit(df['Category'])\n",
    "df['Category'] = le.transform(df['Category'])\n",
    "le.fit(df['Organisation'])\n",
    "df['Organisation'] = le.transform(df['Organisation'])\n",
    "df.head()"
   ]
  },
  {
   "cell_type": "markdown",
   "metadata": {},
   "source": [
    "### Fitting the Model to the Data"
   ]
  },
  {
   "cell_type": "code",
   "execution_count": 21,
   "metadata": {},
   "outputs": [
    {
     "data": {
      "text/plain": [
       "DecisionTreeClassifier(criterion='entropy', max_depth=3)"
      ]
     },
     "execution_count": 21,
     "metadata": {},
     "output_type": "execute_result"
    }
   ],
   "source": [
    "features = ['Age','Organisation','LOS','Category']\n",
    "dtree = tree.DecisionTreeClassifier(max_depth=3,criterion=\"entropy\")\n",
    "dtree.fit(df[features],df['Death'])"
   ]
  },
  {
   "cell_type": "code",
   "execution_count": 22,
   "metadata": {},
   "outputs": [
    {
     "data": {
      "text/plain": [
       "[Text(319.6875, 396.375, 'X[0] <= 72.5\\nentropy = 0.673\\nsamples = 300\\nvalue = [247, 53]'),\n",
       " Text(174.375, 283.125, 'X[2] <= 11.5\\nentropy = 0.548\\nsamples = 213\\nvalue = [186, 27]'),\n",
       " Text(116.25, 169.875, 'X[3] <= 1.5\\nentropy = 0.487\\nsamples = 208\\nvalue = [186, 22]'),\n",
       " Text(58.125, 56.625, 'entropy = 0.386\\nsamples = 159\\nvalue = [147, 12]'),\n",
       " Text(174.375, 56.625, 'entropy = 0.73\\nsamples = 49\\nvalue = [39, 10]'),\n",
       " Text(232.5, 169.875, 'entropy = 0.0\\nsamples = 5\\nvalue = [0, 5]'),\n",
       " Text(465.0, 283.125, 'X[0] <= 75.5\\nentropy = 0.88\\nsamples = 87\\nvalue = [61, 26]'),\n",
       " Text(348.75, 169.875, 'X[1] <= 8.5\\nentropy = 0.98\\nsamples = 12\\nvalue = [5, 7]'),\n",
       " Text(290.625, 56.625, 'entropy = 0.881\\nsamples = 10\\nvalue = [3, 7]'),\n",
       " Text(406.875, 56.625, 'entropy = 0.0\\nsamples = 2\\nvalue = [2, 0]'),\n",
       " Text(581.25, 169.875, 'X[0] <= 76.5\\nentropy = 0.817\\nsamples = 75\\nvalue = [56, 19]'),\n",
       " Text(523.125, 56.625, 'entropy = 0.0\\nsamples = 4\\nvalue = [4, 0]'),\n",
       " Text(639.375, 56.625, 'entropy = 0.838\\nsamples = 71\\nvalue = [52, 19]')]"
      ]
     },
     "execution_count": 22,
     "metadata": {},
     "output_type": "execute_result"
    },
    {
     "data": {
      "image/png": "[encoded data removed]",
      "text/plain": [
       "<Figure size 900x600 with 1 Axes>"
      ]
     },
     "metadata": {
      "needs_background": "light"
     },
     "output_type": "display_data"
    }
   ],
   "source": [
    "plt.figure(dpi=150)\n",
    "tree.plot_tree(dtree, filled=True)"
   ]
  },
  {
   "cell_type": "markdown",
   "metadata": {},
   "source": [
    "### Model Interpretation\n",
    "\n",
    "The \"browner\" the cell the greater the proportion of patients who survive and the \"bluer\" the cell the greater the proportion of patient who died. The algorithm identifies an age of 72.5 (age is X[0]) as the best first split, which will reduce the entropy by the maximum amount. I believe this model suffers from age and LOS being used as \"identifiers\", note that \"category\" is not used until the third level. I will round the age to the nearest 10 and LOS to the nearest whole number and see how this effects the model."
   ]
  },
  {
   "cell_type": "code",
   "execution_count": 23,
   "metadata": {},
   "outputs": [],
   "source": [
    "df[\"AgeN10\"] = df[\"Age\"].round(-1)\n",
    "df[\"LOSNWN\"] = df[\"LOS\"].round(0)"
   ]
  },
  {
   "cell_type": "code",
   "execution_count": 24,
   "metadata": {},
   "outputs": [
    {
     "data": {
      "text/plain": [
       "DecisionTreeClassifier(criterion='entropy', max_depth=3)"
      ]
     },
     "execution_count": 24,
     "metadata": {},
     "output_type": "execute_result"
    }
   ],
   "source": [
    "features = ['AgeN10','Organisation','LOSNWN','Category']\n",
    "dtree = tree.DecisionTreeClassifier(max_depth=3,criterion=\"entropy\")\n",
    "dtree.fit(df[features],df['Death'])"
   ]
  },
  {
   "cell_type": "code",
   "execution_count": 25,
   "metadata": {},
   "outputs": [
    {
     "data": {
      "text/plain": [
       "[Text(402.40384615384613, 396.375, 'X[3] <= 1.5\\nentropy = 0.673\\nsamples = 300\\nvalue = [247, 53]'),\n",
       " Text(214.6153846153846, 283.125, 'X[0] <= 65.0\\nentropy = 0.561\\nsamples = 213\\nvalue = [185, 28]'),\n",
       " Text(107.3076923076923, 169.875, 'X[2] <= 11.0\\nentropy = 0.416\\nsamples = 155\\nvalue = [142, 13]'),\n",
       " Text(53.65384615384615, 56.625, 'entropy = 0.35\\nsamples = 152\\nvalue = [142, 10]'),\n",
       " Text(160.96153846153845, 56.625, 'entropy = 0.0\\nsamples = 3\\nvalue = [0, 3]'),\n",
       " Text(321.9230769230769, 169.875, 'X[2] <= 8.5\\nentropy = 0.825\\nsamples = 58\\nvalue = [43, 15]'),\n",
       " Text(268.2692307692308, 56.625, 'entropy = 0.946\\nsamples = 33\\nvalue = [21, 12]'),\n",
       " Text(375.5769230769231, 56.625, 'entropy = 0.529\\nsamples = 25\\nvalue = [22, 3]'),\n",
       " Text(590.1923076923077, 283.125, 'X[2] <= 11.5\\nentropy = 0.865\\nsamples = 87\\nvalue = [62, 25]'),\n",
       " Text(536.5384615384615, 169.875, 'X[0] <= 55.0\\nentropy = 0.816\\nsamples = 83\\nvalue = [62, 21]'),\n",
       " Text(482.88461538461536, 56.625, 'entropy = 0.996\\nsamples = 13\\nvalue = [6, 7]'),\n",
       " Text(590.1923076923077, 56.625, 'entropy = 0.722\\nsamples = 70\\nvalue = [56, 14]'),\n",
       " Text(643.8461538461538, 169.875, 'entropy = 0.0\\nsamples = 4\\nvalue = [0, 4]')]"
      ]
     },
     "execution_count": 25,
     "metadata": {},
     "output_type": "execute_result"
    },
    {
     "data": {
      "image/png": "[encoded data removed]",
      "text/plain": [
       "<Figure size 900x600 with 1 Axes>"
      ]
     },
     "metadata": {
      "needs_background": "light"
     },
     "output_type": "display_data"
    }
   ],
   "source": [
    "plt.figure(dpi=150)\n",
    "tree.plot_tree(dtree, filled=True)"
   ]
  },
  {
   "cell_type": "markdown",
   "metadata": {},
   "source": [
    "I think this is a more satisfactory model. As it stops the continuous variables being used as unique identifiers. Further, useful results can be found, such as all of the medium risk patients who stayed for 12 days or longer died. Confirmed by subsetting below."
   ]
  },
  {
   "cell_type": "code",
   "execution_count": 28,
   "metadata": {},
   "outputs": [
    {
     "data": {
      "text/plain": [
       "1    160\n",
       "2     87\n",
       "0     53\n",
       "Name: Category, dtype: int64"
      ]
     },
     "execution_count": 28,
     "metadata": {},
     "output_type": "execute_result"
    }
   ],
   "source": [
    "df[\"Category\"].value_counts()"
   ]
  },
  {
   "cell_type": "code",
   "execution_count": 27,
   "metadata": {},
   "outputs": [
    {
     "data": {
      "text/plain": [
       "14     1\n",
       "26     1\n",
       "144    1\n",
       "214    1\n",
       "Name: Death, dtype: int64"
      ]
     },
     "execution_count": 27,
     "metadata": {},
     "output_type": "execute_result"
    }
   ],
   "source": [
    "df[\"Death\"][df.Category > 1.5][df.LOSNWN > 11.5]"
   ]
  },
  {
   "cell_type": "markdown",
   "metadata": {},
   "source": [
    "If I had time to go further I would investigate using logistic regression, as this approach is very interpretable and could lead to further insights to help understand the data. However, I have reached the time limit. I'll include a few notes below regarding how I would test this model below.\n",
    "\n",
    "### Model Testing\n",
    "\n",
    "Ideally I would have with held say 50 records which could have been used as a testing set, used the model to make predictions and formed a confusion table to assess the model."
   ]
  },
  {
   "cell_type": "code",
   "execution_count": null,
   "metadata": {},
   "outputs": [],
   "source": []
  }
 ],
 "metadata": {
  "kernelspec": {
   "display_name": "Python 3",
   "language": "python",
   "name": "python3"
  },
  "language_info": {
   "codemirror_mode": {
    "name": "ipython",
    "version": 3
   },
   "file_extension": ".py",
   "mimetype": "text/x-python",
   "name": "python",
   "nbconvert_exporter": "python",
   "pygments_lexer": "ipython3",
   "version": "3.8.3"
  }
 },
 "nbformat": 4,
 "nbformat_minor": 4
}
